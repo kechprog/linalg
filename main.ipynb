{
 "cells": [
  {
   "cell_type": "code",
   "execution_count": 45,
   "metadata": {},
   "outputs": [
    {
     "data": {
      "text/plain": [
       "1.3522468075656264"
      ]
     },
     "execution_count": 45,
     "metadata": {},
     "output_type": "execute_result"
    }
   ],
   "source": [
    "import numpy as np\n",
    "import math\n",
    "\n",
    "# returns a vec of line params\n",
    "def vec(*args):\n",
    "    return np.array([*args])\n",
    "\n",
    "\n",
    "\n",
    "\"\"\"\n",
    "[ a      [ x\n",
    "  b    *   y    = ax + by + c\n",
    "  c ]      1 ]\n",
    "\n",
    "the way on line works\n",
    "\"\"\"\n",
    "def on_line(l,p):\n",
    "    return np.dot(\n",
    "        l, np.append(p, [1])\n",
    "    ) == 0\n",
    "\n",
    "def vec_len(v):\n",
    "    dim = [x**2 for x in v[:]]\n",
    "    return sum(dim)**0.5\n",
    "\n",
    "'''\n",
    "(p + n*t) * n + c = 0\n",
    "n*t*n = -(c + p*n)\n",
    "t = -(c + p*n) / (|n|^2)\n",
    "'''\n",
    "\n",
    "def pldist(l,p):\n",
    "    c = l[-1]\n",
    "    n = l[0:-1]\n",
    "    t = -(c + np.dot(p,n)) / np.dot(n,n)\n",
    "    return np.abs(t * vec_len(n))\n",
    "\n",
    "pldist(\n",
    "    vec(1,3,5,4),\n",
    "    vec(4,0,0)\n",
    ")"
   ]
  },
  {
   "attachments": {},
   "cell_type": "markdown",
   "metadata": {},
   "source": [
    "$ p \\in \\{p \\in \\mathbb{R^2} \\ | \\ n*p + c = 0\\} $"
   ]
  },
  {
   "cell_type": "code",
   "execution_count": null,
   "metadata": {},
   "outputs": [
    {
     "ename": "ModuleNotFoundError",
     "evalue": "No module named 'torch'",
     "output_type": "error",
     "traceback": [
      "\u001b[0;31m---------------------------------------------------------------------------\u001b[0m",
      "\u001b[0;31mModuleNotFoundError\u001b[0m                       Traceback (most recent call last)",
      "Cell \u001b[0;32mIn[46], line 1\u001b[0m\n\u001b[0;32m----> 1\u001b[0m \u001b[39mimport\u001b[39;00m \u001b[39mtorch\u001b[39;00m\n\u001b[1;32m      3\u001b[0m \u001b[39mdef\u001b[39;00m \u001b[39mtvec\u001b[39m(\u001b[39m*\u001b[39margs, dtype\u001b[39m=\u001b[39mtorch\u001b[39m.\u001b[39mfloat64):\n\u001b[1;32m      4\u001b[0m     \u001b[39mreturn\u001b[39;00m torch\u001b[39m.\u001b[39mtensor([\u001b[39m*\u001b[39margs], dtype\u001b[39m=\u001b[39mdtype)\n",
      "\u001b[0;31mModuleNotFoundError\u001b[0m: No module named 'torch'"
     ]
    }
   ],
   "source": [
    "import torch\n",
    "\n",
    "def tvec(*args, dtype=torch.float64):\n",
    "    return torch.tensor([*args], dtype=dtype)\n",
    "\n",
    "points = [\n",
    "\n",
    "]\n",
    "\n",
    "w0 = torch.rand(3)"
   ]
  }
 ],
 "metadata": {
  "kernelspec": {
   "display_name": ".venv",
   "language": "python",
   "name": "python3"
  },
  "language_info": {
   "codemirror_mode": {
    "name": "ipython",
    "version": 3
   },
   "file_extension": ".py",
   "mimetype": "text/x-python",
   "name": "python",
   "nbconvert_exporter": "python",
   "pygments_lexer": "ipython3",
   "version": "3.11.3"
  },
  "orig_nbformat": 4
 },
 "nbformat": 4,
 "nbformat_minor": 2
}
